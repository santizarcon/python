{
 "cells": [
  {
   "cell_type": "code",
   "execution_count": null,
   "metadata": {},
   "outputs": [],
   "source": [
    "conejos = 126\n",
    "zanahoria = 0\n",
    "print(conejos)\n",
    "conejos = 150\n",
    "zanahoria = conejos\n",
    "print(conejos, zanahoria)\n",
    "conejos = 250\n",
    "print(conejos, zanahoria)\n"
   ]
  },
  {
   "cell_type": "code",
   "execution_count": null,
   "metadata": {},
   "outputs": [],
   "source": [
    "s = 3 + 6\n",
    "r = 5 - 4\n",
    "m = 6 * 3\n",
    "d = 8 / 2\n",
    "d2 = 7 / 2\n",
    "print(s, r, m, d, d2)"
   ]
  },
  {
   "cell_type": "code",
   "execution_count": null,
   "metadata": {},
   "outputs": [],
   "source": [
    "s = 1 + 6\n",
    "r = 12 - 8\n",
    "m = 3 * 5\n",
    "d = 12 / 4\n",
    "print(s, r, m, d)"
   ]
  },
  {
   "cell_type": "code",
   "execution_count": null,
   "metadata": {},
   "outputs": [],
   "source": [
    "a = (4 + 5) * 6\n",
    "b = 4 + (5 * 6)\n",
    "print(a, b)"
   ]
  },
  {
   "cell_type": "code",
   "execution_count": null,
   "metadata": {},
   "outputs": [],
   "source": [
    "animal = \"elefante\"\n",
    "color = \"rosa\"\n",
    "imagina = animal + color\n",
    "print(imagina)\n",
    "imagina = animal + \" \" + color\n",
    "print(imagina)"
   ]
  },
  {
   "cell_type": "code",
   "execution_count": null,
   "metadata": {},
   "outputs": [],
   "source": [
    "nombre = input(\"¿Cual es tu nombre?\")\n",
    "inicial = nombre[0]\n",
    "print(inicial)"
   ]
  },
  {
   "cell_type": "code",
   "execution_count": null,
   "metadata": {},
   "outputs": [],
   "source": [
    "for n in range(8):\n",
    "  print(n)\n",
    "  "
   ]
  },
  {
   "cell_type": "code",
   "execution_count": null,
   "metadata": {},
   "outputs": [],
   "source": [
    "for n in range(3, 99, 3):\n",
    "  print(n)"
   ]
  },
  {
   "cell_type": "code",
   "execution_count": null,
   "metadata": {},
   "outputs": [],
   "source": [
    "for n in range(10, 0, -1):\n",
    "  print(n)\n",
    "print(\"¡Despegue!\")"
   ]
  },
  {
   "cell_type": "code",
   "execution_count": null,
   "metadata": {},
   "outputs": [],
   "source": [
    "from turtle import *\n",
    "for n in range(4):\n",
    "  forward(100)\n",
    "  right(90)"
   ]
  },
  {
   "cell_type": "code",
   "execution_count": 3,
   "metadata": {},
   "outputs": [
    {
     "name": "stdout",
     "output_type": "stream",
     "text": [
      "10 20 35\n",
      "10, 20, 35.\n"
     ]
    }
   ],
   "source": [
    "x = 10\n",
    "y = 20\n",
    "z = 35\n",
    "print(x, y, z)\n",
    "print(f\"{x}, {y}, {z}.\")"
   ]
  }
 ],
 "metadata": {
  "kernelspec": {
   "display_name": "Python 3",
   "language": "python",
   "name": "python3"
  },
  "language_info": {
   "codemirror_mode": {
    "name": "ipython",
    "version": 3
   },
   "file_extension": ".py",
   "mimetype": "text/x-python",
   "name": "python",
   "nbconvert_exporter": "python",
   "pygments_lexer": "ipython3",
   "version": "3.12.3"
  }
 },
 "nbformat": 4,
 "nbformat_minor": 2
}
